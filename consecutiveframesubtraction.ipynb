{
 "cells": [
  {
   "cell_type": "code",
   "execution_count": 4,
   "metadata": {},
   "outputs": [],
   "source": [
    "import tifffile as tf\n",
    "import numpy as np\n",
    "from skimage.feature import peak_local_max\n",
    "from skimage.filters import gaussian\n",
    "from matplotlib import pyplot as plt"
   ]
  },
  {
   "cell_type": "code",
   "execution_count": 69,
   "metadata": {},
   "outputs": [
    {
     "name": "stdout",
     "output_type": "stream",
     "text": [
      "(1, 1, 2)\n",
      "[[289 179]]\n",
      "[[289 179]]\n",
      "(1, 1, 2)\n",
      "(1, 2, 2)\n",
      "[[  0 -16]]\n",
      "(1, 1, 2)\n",
      "(1, 1, 2)\n",
      "(1, 2, 2)\n",
      "[[-35   3]]\n",
      "[[-35   3]]\n",
      "[[False  True]]\n",
      "(1, 1, 2)\n",
      "(1, 1, 2)\n",
      "(1, 1, 2)\n",
      "(1, 1, 2)\n",
      "(1, 1, 2)\n",
      "(1, 1, 2)\n",
      "(1, 2, 2)\n",
      "[[52 62]]\n",
      "[[52 62]]\n",
      "[[ True False]]\n",
      "(1, 1, 2)\n",
      "(1, 1, 2)\n",
      "(1, 1, 2)\n"
     ]
    }
   ],
   "source": [
    "tif = tf.TiffFile('/home/mjsf3/TrapAnalysis/260522_CecB-  PCPG vesicles- after flushing_1_MMStack_Pos31.ome-1.tif')\n",
    "\n",
    "frames = tif.asarray()\n",
    "\n",
    "subtracted_frames = frames[:-1] - frames[1:]\n",
    "\n",
    "\n",
    "interficiendum = None\n",
    "for frame_index in range(subtracted_frames.shape[0]):\n",
    "    frame = subtracted_frames[frame_index]\n",
    "    \n",
    "    frame = gaussian(frame,10)\n",
    "    pos_peaks = peak_local_max(frame,min_distance=40,threshold_rel=0.95)\n",
    "    neg_peaks = peak_local_max(np.max(frame)-frame,min_distance=40,threshold_rel=0.95)\n",
    "    \n",
    "    pos_peaks = np.array(pos_peaks)\n",
    "    neg_peaks = np.array(neg_peaks)\n",
    "    \n",
    "    \n",
    "    \n",
    "    peaks = np.vstack((pos_peaks,neg_peaks))\n",
    "    \n",
    "    frame  = np.hstack((frame,0-frame))\n",
    "    if len(pos_peaks) >0 and len(neg_peaks) > 0:\n",
    "        \n",
    "        #if we find a positive and a negative peak in the subtracted frame, we believe that a vesicle has moved\n",
    "        #remains to pair the negative peak and positive peak to make sure a vesicle moved and didnt just burst\n",
    "        \n",
    "        pair_vectors = pos_peaks[np.newaxis] - neg_peaks\n",
    "        print(pair_vectors.shape)\n",
    "        if pair_vectors.shape[1] ==1:\n",
    "            if interficiendum is None:\n",
    "                interficiendum = neg_peaks\n",
    "                print(neg_peaks)\n",
    "                print(interficiendum)\n",
    "            else:\n",
    "                interficiendum = np.vstack((interficiendum,neg_peaks))\n",
    "                \n",
    "        else:\n",
    "            pair = pair_vectors[np.absolute(pair_vectors[:,:,0]) < 60]\n",
    "            print(pair_vectors[:,:,0])\n",
    "            \n",
    "            if pair_vectors.shape[1] == 1:\n",
    "                if interficiendum is None:\n",
    "                    interficiendum = neg_peaks[pair_vectors[:,0] < 60]\n",
    "                    \n",
    "                else:\n",
    "                    interficiendum = np.vstack(interficiendum,neg_peaks[pair_vectors[:,0] < 60])  \n",
    "                    \n",
    "            else:\n",
    "                pair = pair_vectors[pair_vectors[:,:,1] < 0]\n",
    "                pair = pair[pair[:,0] < 60]\n",
    "                \n",
    "                \n",
    "                if len(neg_peaks) > 1 and len(pair[0]) > 0:\n",
    "                    print(pair_vectors[:,:,0])\n",
    "                    print([np.absolute(pair_vectors[:,:,0]) == np.min(np.absolute(pair_vectors[:,:,0]))][0])\n",
    "                    peak = neg_peaks[[np.absolute(pair_vectors[:,:,0]) == np.min(np.absolute(pair_vectors[:,:,0]))][0][0]]\n",
    "                    \n",
    "                else:\n",
    "                    peak = neg_peaks                    \n",
    "                \n",
    "                    \n",
    "                if interficiendum is None:\n",
    "                    interficiendum = peak\n",
    "                else:\n",
    "                    interficiendum = np.vstack((interficiendum,peak))\n",
    "                        \n",
    "\n"
   ]
  },
  {
   "cell_type": "code",
   "execution_count": 50,
   "metadata": {},
   "outputs": [
    {
     "name": "stdout",
     "output_type": "stream",
     "text": [
      "(1, 1, 2)\n",
      "[[289 179]\n",
      " [221 441]\n",
      " [159 348]\n",
      " [306 327]\n",
      " [191 207]\n",
      " [319 321]\n",
      " [377 143]\n",
      " [250 397]\n",
      " [222 183]\n",
      " [254 223]\n",
      " [317 193]\n",
      " [327 127]\n",
      " [312  77]]\n"
     ]
    }
   ],
   "source": [
    "print(pair_vectors.shape)\n",
    "print(interficiendum)"
   ]
  },
  {
   "cell_type": "code",
   "execution_count": 5,
   "metadata": {},
   "outputs": [
    {
     "data": {
      "text/plain": [
       "(1936, 512, 512)"
      ]
     },
     "execution_count": 5,
     "metadata": {},
     "output_type": "execute_result"
    }
   ],
   "source": [
    "subtracted_frames.shape"
   ]
  },
  {
   "cell_type": "code",
   "execution_count": 3,
   "metadata": {},
   "outputs": [],
   "source": [
    "tifw = tf.TiffWriter('./subtracted_frames.tif',imagej=True)\n",
    "metadata = {}\n",
    "metadata['frames'] = subtracted_frames.shape[0]\n",
    "\n",
    "counter = 0\n",
    "for frame in subtracted_frames:\n",
    "\n",
    "        \n",
    "\n",
    "    \n",
    "    if counter == 0:\n",
    "        tifw.save(frame,metadata=metadata)\n",
    "      \n",
    "    else:\n",
    "        tifw.save(frame)\n",
    "    counter +=1\n",
    "    "
   ]
  },
  {
   "cell_type": "code",
   "execution_count": 2,
   "metadata": {},
   "outputs": [],
   "source": [
    "tif = tf.TiffFile('./subtracted_frames.tif')"
   ]
  },
  {
   "cell_type": "code",
   "execution_count": 21,
   "metadata": {},
   "outputs": [],
   "source": [
    "images = tif.asarray()"
   ]
  },
  {
   "cell_type": "code",
   "execution_count": 22,
   "metadata": {},
   "outputs": [
    {
     "data": {
      "text/plain": [
       "array([[[   11,    20, 65515, ..., 65497,    12,    21],\n",
       "        [65451, 65447, 65447, ...,    27, 65447, 65462],\n",
       "        [   49,    24,    58, ...,    48, 65451,   127],\n",
       "        ...,\n",
       "        [   58, 65446, 65501, ..., 65441, 65504,   208],\n",
       "        [65484, 65514,    40, ..., 65510,    96,    21],\n",
       "        [  133, 65454,     1, ..., 65523, 65469, 65416]],\n",
       "\n",
       "       [[65421, 65448,     2, ...,     3, 65510, 65519],\n",
       "        [    2,    22, 65453, ...,    37,   103,    48],\n",
       "        [65480, 65482, 65494, ..., 65504,    20, 65389],\n",
       "        ...,\n",
       "        [65485,    11, 65495, ..., 65517, 65443, 65483],\n",
       "        [   57,    29, 65531, ..., 65530, 65478, 65421],\n",
       "        [   25,    93,    62, ..., 65496,   111,    90]],\n",
       "\n",
       "       [[   62,    43,    84, ..., 65525,     3, 65430],\n",
       "        [65525,    79,   194, ..., 65438, 65523, 65455],\n",
       "        [65402,     9, 65435, ...,    11,    18,    38],\n",
       "        ...,\n",
       "        [   54,    23,    71, ...,    98,    31,    13],\n",
       "        [65481, 65409, 65506, ..., 65493, 65494,   143],\n",
       "        [65461, 65512, 65386, ...,   100, 65452, 65530]],\n",
       "\n",
       "       ...,\n",
       "\n",
       "       [[64972, 65397,   289, ..., 65312, 65490, 65455],\n",
       "        [65463,   338, 65478, ..., 65354, 65520, 65443],\n",
       "        [65205, 65254,   414, ..., 65192, 65182, 65242],\n",
       "        ...,\n",
       "        [  397,   596, 65136, ..., 65484,   389,   193],\n",
       "        [  499,   241, 65356, ..., 65525, 65343, 65489],\n",
       "        [65277,   103, 65216, ...,   197, 65333, 65443]],\n",
       "\n",
       "       [[  346, 65528, 65122, ..., 65370, 65409,   165],\n",
       "        [65454, 65239, 65280, ..., 65411,   148, 65499],\n",
       "        [   78,   199, 65185, ...,    89,   687,   144],\n",
       "        ...,\n",
       "        [65289, 65459,    96, ...,    20,    99,   135],\n",
       "        [65492, 64888,   256, ..., 65375,   530, 65345],\n",
       "        [  281,   342,   284, ...,   457,   261,   149]],\n",
       "\n",
       "       [[65527,   296, 65461, ..., 65233,   107,    82],\n",
       "        [   40,    27,   138, ..., 65398, 65283,    20],\n",
       "        [  271,   272,   496, ...,    84, 65159, 65413],\n",
       "        ...,\n",
       "        [   61, 65167,   208, ..., 65329, 65488,   161],\n",
       "        [  570,   422, 65439, ...,   102, 65221, 65406],\n",
       "        [65505, 65266, 65066, ..., 64935, 65410, 65369]]], dtype=uint16)"
      ]
     },
     "execution_count": 22,
     "metadata": {},
     "output_type": "execute_result"
    }
   ],
   "source": [
    "images"
   ]
  },
  {
   "cell_type": "code",
   "execution_count": 11,
   "metadata": {},
   "outputs": [
    {
     "data": {
      "text/plain": [
       "(512, 512)"
      ]
     },
     "execution_count": 11,
     "metadata": {},
     "output_type": "execute_result"
    }
   ],
   "source": [
    "tif.asarray().shape"
   ]
  },
  {
   "cell_type": "code",
   "execution_count": null,
   "metadata": {},
   "outputs": [],
   "source": [
    "np.savetxt(X=images,f)"
   ]
  }
 ],
 "metadata": {
  "kernelspec": {
   "display_name": "Python 3",
   "language": "python",
   "name": "python3"
  },
  "language_info": {
   "codemirror_mode": {
    "name": "ipython",
    "version": 3
   },
   "file_extension": ".py",
   "mimetype": "text/x-python",
   "name": "python",
   "nbconvert_exporter": "python",
   "pygments_lexer": "ipython3",
   "version": "3.7.1"
  }
 },
 "nbformat": 4,
 "nbformat_minor": 2
}
