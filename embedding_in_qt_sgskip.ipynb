{
 "cells": [
  {
   "cell_type": "code",
   "execution_count": 1,
   "metadata": {},
   "outputs": [],
   "source": [
    "%matplotlib inline"
   ]
  },
  {
   "cell_type": "markdown",
   "metadata": {},
   "source": [
    "\n",
    "# Embedding in Qt\n",
    "\n",
    "\n",
    "Simple Qt application embedding Matplotlib canvases.  This program will work\n",
    "equally well using Qt4 and Qt5.  Either version of Qt can be selected (for\n",
    "example) by setting the ``MPLBACKEND`` environment variable to \"Qt4Agg\" or\n",
    "\"Qt5Agg\", or by first importing the desired version of PyQt.\n",
    "\n"
   ]
  },
  {
   "cell_type": "code",
   "execution_count": 2,
   "metadata": {},
   "outputs": [],
   "source": [
    "import sys\n",
    "import time\n",
    "\n",
    "import numpy as np\n",
    "\n",
    "from matplotlib.backends.qt_compat import QtCore, QtWidgets, is_pyqt5\n",
    "if is_pyqt5():\n",
    "    from matplotlib.backends.backend_qt5agg import (\n",
    "        FigureCanvas, NavigationToolbar2QT as NavigationToolbar)\n",
    "else:\n",
    "    from matplotlib.backends.backend_qt4agg import (\n",
    "        FigureCanvas, NavigationToolbar2QT as NavigationToolbar)\n",
    "from matplotlib.figure import Figure\n",
    "\n",
    "\n",
    "class ApplicationWindow(QtWidgets.QMainWindow):\n",
    "    def __init__(self):\n",
    "        super().__init__()\n",
    "        self._main = QtWidgets.QWidget()\n",
    "        self.setCentralWidget(self._main)\n",
    "        layout = QtWidgets.QVBoxLayout(self._main)\n",
    "\n",
    "        static_canvas = FigureCanvas(Figure(figsize=(5, 3)))\n",
    "        layout.addWidget(static_canvas)\n",
    "        self.addToolBar(NavigationToolbar(static_canvas, self))\n",
    "\n",
    "        dynamic_canvas = FigureCanvas(Figure(figsize=(5, 3)))\n",
    "        layout.addWidget(dynamic_canvas)\n",
    "        self.addToolBar(QtCore.Qt.BottomToolBarArea,\n",
    "                        NavigationToolbar(dynamic_canvas, self))\n",
    "\n",
    "        self._static_ax = static_canvas.figure.subplots()\n",
    "        t = np.linspace(0, 10, 501)\n",
    "        self._static_ax.plot(t, np.tan(t), \".\")\n",
    "\n",
    "        self._dynamic_ax = dynamic_canvas.figure.subplots()\n",
    "        self._timer = dynamic_canvas.new_timer(\n",
    "            100, [(self._update_canvas, (), {})])\n",
    "        self._timer.start()\n",
    "\n",
    "    def _update_canvas(self):\n",
    "        self._dynamic_ax.clear()\n",
    "        t = np.linspace(0, 10, 101)\n",
    "        # Shift the sinusoid as a function of time.\n",
    "        self._dynamic_ax.plot(t, np.sin(t + time.time()))\n",
    "        self._dynamic_ax.figure.canvas.draw()\n",
    "\n",
    "\n",
    "if __name__ == \"__main__\":\n",
    "    qapp = QtWidgets.QApplication(sys.argv)\n",
    "    app = ApplicationWindow()\n",
    "    app.show()\n",
    "    qapp.exec_()"
   ]
  },
  {
   "cell_type": "code",
   "execution_count": null,
   "metadata": {},
   "outputs": [],
   "source": []
  }
 ],
 "metadata": {
  "kernelspec": {
   "display_name": "Python 3",
   "language": "python",
   "name": "python3"
  },
  "language_info": {
   "codemirror_mode": {
    "name": "ipython",
    "version": 3
   },
   "file_extension": ".py",
   "mimetype": "text/x-python",
   "name": "python",
   "nbconvert_exporter": "python",
   "pygments_lexer": "ipython3",
   "version": "3.6.6"
  }
 },
 "nbformat": 4,
 "nbformat_minor": 1
}
