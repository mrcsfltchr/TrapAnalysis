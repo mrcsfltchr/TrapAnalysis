{
 "cells": [
  {
   "cell_type": "code",
   "execution_count": 1,
   "metadata": {},
   "outputs": [],
   "source": [
    "import pandas\n",
    "import tifffile as tf\n",
    "import sys"
   ]
  },
  {
   "cell_type": "code",
   "execution_count": 2,
   "metadata": {},
   "outputs": [],
   "source": [
    "tif = tf.TiffFile('/Volumes/Seagate Backup Plus Drive/181130-single vesicle fun-96 fps_7/181130-single vesicle fun-96 fps_7_MMStack_Pos0.ome.tif')"
   ]
  },
  {
   "cell_type": "code",
   "execution_count": 3,
   "metadata": {},
   "outputs": [
    {
     "data": {
      "text/plain": [
       "<tifffile.tifffile.TiffFile at 0x1216fe898>"
      ]
     },
     "execution_count": 3,
     "metadata": {},
     "output_type": "execute_result"
    }
   ],
   "source": [
    "tif\n"
   ]
  },
  {
   "cell_type": "code",
   "execution_count": 6,
   "metadata": {},
   "outputs": [
    {
     "data": {
      "text/plain": [
       "56"
      ]
     },
     "execution_count": 6,
     "metadata": {},
     "output_type": "execute_result"
    }
   ],
   "source": [
    "sys.getsizeof(tif)"
   ]
  },
  {
   "cell_type": "code",
   "execution_count": 7,
   "metadata": {},
   "outputs": [
    {
     "data": {
      "text/plain": [
       "array([[[ 942, 1092, 1063, ...,  763,  705,  574],\n",
       "        [1127,  885, 1004, ...,  643,  665,  641],\n",
       "        [1172, 1062, 1001, ...,  775,  775,  757],\n",
       "        ...,\n",
       "        [ 721,  756,  785, ...,  661,  638,  746],\n",
       "        [ 628,  863,  705, ...,  761,  750,  644],\n",
       "        [ 745,  693,  715, ...,  734,  692,  658]],\n",
       "\n",
       "       [[1037, 1153,  948, ...,  591,  772,  715],\n",
       "        [1013,  987,  881, ...,  786,  661,  674],\n",
       "        [1004, 1029, 1082, ...,  636,  709,  620],\n",
       "        ...,\n",
       "        [ 697,  659,  727, ...,  610,  580,  728],\n",
       "        [ 823,  713,  757, ...,  746,  785,  706],\n",
       "        [ 759,  779,  695, ...,  792,  766,  642]],\n",
       "\n",
       "       [[1238,  793, 1070, ...,  646,  666,  725],\n",
       "        [ 931, 1133, 1240, ...,  721,  702,  714],\n",
       "        [1134,  973, 1010, ...,  710,  691,  666],\n",
       "        ...,\n",
       "        [ 842,  633,  714, ...,  714,  639,  781],\n",
       "        [ 749,  839,  680, ...,  659,  670,  850],\n",
       "        [ 678,  846,  876, ...,  758,  787,  759]],\n",
       "\n",
       "       ...,\n",
       "\n",
       "       [[ 814, 1066,  922, ...,  792,  624,  774],\n",
       "        [ 888, 1132, 1197, ...,  662,  653,  591],\n",
       "        [ 993,  911, 1138, ...,  719,  540,  601],\n",
       "        ...,\n",
       "        [ 816,  671,  798, ...,  656,  705,  713],\n",
       "        [ 835,  649,  720, ...,  656,  690,  758],\n",
       "        [ 739,  875,  724, ...,  809,  611,  644]],\n",
       "\n",
       "       [[1043, 1040, 1156, ...,  734,  616,  675],\n",
       "        [1144,  858, 1038, ...,  679,  659,  694],\n",
       "        [1050, 1023, 1110, ...,  703,  725,  686],\n",
       "        ...,\n",
       "        [ 718,  793,  739, ...,  819,  631,  752],\n",
       "        [ 667,  751,  778, ...,  605,  684,  827],\n",
       "        [ 643,  766,  723, ...,  709,  722,  644]],\n",
       "\n",
       "       [[ 877,  926,  919, ...,  699,  680,  659],\n",
       "        [1011, 1006, 1157, ...,  680,  677,  712],\n",
       "        [ 980,  972,  964, ...,  581,  679,  666],\n",
       "        ...,\n",
       "        [ 795,  763,  709, ...,  821,  582,  684],\n",
       "        [ 658,  738,  794, ...,  706,  721,  609],\n",
       "        [ 724,  779,  824, ...,  785,  829,  720]]], dtype=uint16)"
      ]
     },
     "execution_count": 7,
     "metadata": {},
     "output_type": "execute_result"
    }
   ],
   "source": []
  },
  {
   "cell_type": "code",
   "execution_count": null,
   "metadata": {},
   "outputs": [],
   "source": []
  }
 ],
 "metadata": {
  "kernelspec": {
   "display_name": "Python 3",
   "language": "python",
   "name": "python3"
  },
  "language_info": {
   "codemirror_mode": {
    "name": "ipython",
    "version": 3
   },
   "file_extension": ".py",
   "mimetype": "text/x-python",
   "name": "python",
   "nbconvert_exporter": "python",
   "pygments_lexer": "ipython3",
   "version": "3.6.6"
  }
 },
 "nbformat": 4,
 "nbformat_minor": 2
}
