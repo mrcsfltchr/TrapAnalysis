{
 "cells": [
  {
   "cell_type": "code",
   "execution_count": 1,
   "metadata": {},
   "outputs": [],
   "source": [
    "import tifffile as tf\n",
    "from BackgroundFinder import BackgroundFinder\n",
    "from matplotlib import pyplot as plt\n",
    "import numpy as np"
   ]
  },
  {
   "cell_type": "code",
   "execution_count": 2,
   "metadata": {},
   "outputs": [
    {
     "name": "stderr",
     "output_type": "stream",
     "text": [
      "/Users/MarcusF/anaconda3/lib/python3.6/site-packages/tifffile/tifffile.py:2236: UserWarning: ome-xml: not an ome-tiff master file\n",
      "  warnings.warn('ome-xml: not an ome-tiff master file')\n"
     ]
    }
   ],
   "source": [
    "with tf.TiffFile('./260522_CecB-  PCPG vesicles- after flushing_1_MMStack_Pos6.ome.tif') as tif:\n",
    "    images = tif.asarray()"
   ]
  },
  {
   "cell_type": "code",
   "execution_count": 3,
   "metadata": {},
   "outputs": [],
   "source": [
    "bgf = BackgroundFinder()"
   ]
  },
  {
   "cell_type": "code",
   "execution_count": 4,
   "metadata": {},
   "outputs": [],
   "source": [
    "bgf.get_background(images)"
   ]
  },
  {
   "cell_type": "code",
   "execution_count": 6,
   "metadata": {},
   "outputs": [],
   "source": [
    "bgf.get_data_gradient()\n"
   ]
  },
  {
   "cell_type": "code",
   "execution_count": 7,
   "metadata": {},
   "outputs": [
    {
     "name": "stdout",
     "output_type": "stream",
     "text": [
      "This has taken  0.0437\n",
      "This has taken  0.0010\n",
      "This has taken  0.0007\n",
      "This has taken  0.0007\n",
      "This has taken  0.0006\n",
      "-4.4394360404069175\n",
      "-6.051674013329674\n",
      "-7.05770377867178\n",
      "-7.427319962427788\n",
      "-7.222057243298551\n",
      "-6.571181721895854\n",
      "-5.6367652101102355\n",
      "-4.579768331053671\n",
      "-3.53479995384261\n",
      "-2.595844185178218\n",
      "-1.8145519992278043\n",
      "-1.206036822271403\n",
      "-0.7599963613301162\n",
      "-0.4516992357726073\n",
      "-0.2514122372709996\n",
      "-0.13067415155819595\n",
      "-0.06498465203387505\n",
      "-0.036974803933195716\n",
      "-0.03011460823547188\n",
      "-0.033433428147607774\n",
      "-0.041094511582299015\n",
      "-0.050289378418315045\n",
      "-0.059085400318425435\n",
      "-0.06288049577473642\n",
      "-0.06131469097227019\n",
      "-0.05493996248679997\n",
      "-0.04432265848351813\n",
      "-0.030667871417149883\n",
      "-0.015300110915243859\n",
      "0.000798219599441069\n"
     ]
    }
   ],
   "source": [
    "bgf.find_correct_gaussian_scale()"
   ]
  },
  {
   "cell_type": "code",
   "execution_count": 8,
   "metadata": {},
   "outputs": [
    {
     "data": {
      "text/plain": [
       "1945"
      ]
     },
     "execution_count": 8,
     "metadata": {},
     "output_type": "execute_result"
    }
   ],
   "source": [
    "bgf.peak_max_arg\n"
   ]
  },
  {
   "cell_type": "code",
   "execution_count": 9,
   "metadata": {},
   "outputs": [
    {
     "data": {
      "image/png": "[encoded data removed]",
      "text/plain": [
       "<Figure size 432x288 with 1 Axes>"
      ]
     },
     "metadata": {
      "needs_background": "light"
     },
     "output_type": "display_data"
    }
   ],
   "source": [
    "bgf.plot_gradient()"
   ]
  },
  {
   "cell_type": "code",
   "execution_count": null,
   "metadata": {},
   "outputs": [],
   "source": []
  }
 ],
 "metadata": {
  "kernelspec": {
   "display_name": "Python 3",
   "language": "python",
   "name": "python3"
  },
  "language_info": {
   "codemirror_mode": {
    "name": "ipython",
    "version": 3
   },
   "file_extension": ".py",
   "mimetype": "text/x-python",
   "name": "python",
   "nbconvert_exporter": "python",
   "pygments_lexer": "ipython3",
   "version": "3.7.1"
  }
 },
 "nbformat": 4,
 "nbformat_minor": 2
}
