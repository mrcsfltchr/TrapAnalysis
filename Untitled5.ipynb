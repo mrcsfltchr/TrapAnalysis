{
 "cells": [
  {
   "cell_type": "code",
   "execution_count": 4,
   "metadata": {},
   "outputs": [],
   "source": [
    "import AnnotatedVidViewer\n",
    "import tifffile as tf\n",
    "import qimage2ndarray as qnd\n",
    "import pandas as pd"
   ]
  },
  {
   "cell_type": "code",
   "execution_count": 3,
   "metadata": {},
   "outputs": [
    {
     "name": "stderr",
     "output_type": "stream",
     "text": [
      "/Users/MarcusF/anaconda3/lib/python3.6/site-packages/tifffile/tifffile.py:2236: UserWarning: ome-xml: not an ome-tiff master file\n",
      "  warnings.warn('ome-xml: not an ome-tiff master file')\n"
     ]
    }
   ],
   "source": [
    "with tf.TiffFile('./181008_CecB-PCPG vesicles- after flushing_1_MMStack_Pos22.ome.tif') as tif:\n",
    "    images = tif.asarray()"
   ]
  },
  {
   "cell_type": "code",
   "execution_count": 8,
   "metadata": {},
   "outputs": [
    {
     "name": "stderr",
     "output_type": "stream",
     "text": [
      "/Users/MarcusF/anaconda3/lib/python3.6/site-packages/ipykernel_launcher.py:2: FutureWarning: Method .as_matrix will be removed in a future version. Use .values instead.\n",
      "  \n"
     ]
    }
   ],
   "source": [
    "df = pd.read_csv('./trap_positions_181008_CecB-PCPG vesicles- after flushing_1_MMStack_Pos22.ome.tif.csv')\n",
    "labelled_traps =df.as_matrix()"
   ]
  },
  {
   "cell_type": "code",
   "execution_count": 9,
   "metadata": {},
   "outputs": [
    {
     "data": {
      "text/plain": [
       "array([[  3., 387.,  78.],\n",
       "       [  4., 356., 203.],\n",
       "       [  5., 356., 118.],\n",
       "       [  6., 356.,  35.],\n",
       "       [  7., 326., 413.],\n",
       "       [  8., 326.,  78.],\n",
       "       [  9., 296., 200.],\n",
       "       [ 10., 296., 118.],\n",
       "       [ 11., 295.,  38.],\n",
       "       [ 12., 220., 105.],\n",
       "       [ 13., 204., 159.],\n",
       "       [ 15., 143., 408.],\n",
       "       [ 16., 143., 158.],\n",
       "       [ 17., 142.,  77.],\n",
       "       [ 18.,  55., 456.],\n",
       "       [ 19.,  51., 372.],\n",
       "       [ 20.,  50.,  35.],\n",
       "       [ 21.,  48., 287.],\n",
       "       [ 22.,  21., 159.]])"
      ]
     },
     "execution_count": 9,
     "metadata": {},
     "output_type": "execute_result"
    }
   ],
   "source": [
    "labelled_traps"
   ]
  },
  {
   "cell_type": "code",
   "execution_count": null,
   "metadata": {},
   "outputs": [],
   "source": [
    "Av = AnnotatedVidViewer.TrapViewer(qnd,images,labelled_traps[:,1:],labelled_traps[:,0])"
   ]
  },
  {
   "cell_type": "code",
   "execution_count": null,
   "metadata": {},
   "outputs": [],
   "source": []
  }
 ],
 "metadata": {
  "kernelspec": {
   "display_name": "Python 3",
   "language": "python",
   "name": "python3"
  },
  "language_info": {
   "codemirror_mode": {
    "name": "ipython",
    "version": 3
   },
   "file_extension": ".py",
   "mimetype": "text/x-python",
   "name": "python",
   "nbconvert_exporter": "python",
   "pygments_lexer": "ipython3",
   "version": "3.6.6"
  }
 },
 "nbformat": 4,
 "nbformat_minor": 2
}
